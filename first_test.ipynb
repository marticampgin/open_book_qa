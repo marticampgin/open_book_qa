{
 "cells": [
  {
   "cell_type": "code",
   "execution_count": 1,
   "metadata": {},
   "outputs": [],
   "source": [
    "import pandas\n",
    "import transformers\n",
    "import random\n",
    "import numpy as np\n",
    "from datasets import load_dataset\n",
    "from transformers import pipeline\n"
   ]
  },
  {
   "cell_type": "code",
   "execution_count": 17,
   "metadata": {},
   "outputs": [],
   "source": [
    "# Given that our bi-encoder is distilled, we might as well use a base and no tiny version of QA model\n",
    "qa_model = pipeline('question-answering',\n",
    "                    model='deepset/roberta-base-squad2',\n",
    "                    tokenizer='deepset/roberta-base-squad2',\n",
    "                    max_length=10) "
   ]
  },
  {
   "cell_type": "code",
   "execution_count": 34,
   "metadata": {},
   "outputs": [],
   "source": [
    "df = pd.read_csv('sci_contexts_and_questions.csv', encoding='charmap')"
   ]
  }
 ],
 "metadata": {
  "kernelspec": {
   "display_name": "open_book_qa",
   "language": "python",
   "name": "python3"
  },
  "language_info": {
   "codemirror_mode": {
    "name": "ipython",
    "version": 3
   },
   "file_extension": ".py",
   "mimetype": "text/x-python",
   "name": "python",
   "nbconvert_exporter": "python",
   "pygments_lexer": "ipython3",
   "version": "3.11.5"
  }
 },
 "nbformat": 4,
 "nbformat_minor": 2
}
